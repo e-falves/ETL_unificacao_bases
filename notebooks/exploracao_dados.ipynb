{
 "cells": [
  {
   "cell_type": "code",
   "execution_count": 1,
   "metadata": {},
   "outputs": [],
   "source": [
    "def correcao_coluna(dados, rename_columns):\n",
    "    novo_nome = []\n",
    "    antigo = dados[0]\n",
    "\n",
    "    for nome in antigo:\n",
    "        valor = rename_columns.get(nome, nome)\n",
    "        novo_nome.append(valor)\n",
    "\n",
    "    dados[0] = novo_nome\n",
    "\n",
    "    return dados\n",
    "\n",
    "def list_to_dict(dados):\n",
    "    dicionario = []\n",
    "    keys = dados[0]\n",
    "    values = dados[1:]\n",
    "\n",
    "    for i in values:\n",
    "        lista = list(zip(keys, i))\n",
    "        lista = dict(lista)\n",
    "        dicionario.append(lista)\n",
    "    \n",
    "    return dicionario\n",
    "\n",
    "def agregacao(empresaA, empresaB):\n",
    "    dados_agregados = []\n",
    "    dados_agregados.extend(empresaA)\n",
    "    dados_agregados.extend(empresaB)\n",
    "\n",
    "    return dados_agregados\n",
    "\n",
    "\n",
    "def tabela(dados, colunas):\n",
    "\n",
    "    dados_tabela = [list(colunas.values())]\n",
    "\n",
    "    for dic in dados:\n",
    "        valores = []\n",
    "        for key in colunas.values():\n",
    "            valor = dic.get(key, \"Indisponível\")\n",
    "            valores.append(valor)\n",
    "        dados_tabela.append(valores)\n",
    "\n",
    "    return dados_tabela\n"
   ]
  },
  {
   "cell_type": "markdown",
   "metadata": {},
   "source": [
    "# Leitura dos dados"
   ]
  },
  {
   "cell_type": "code",
   "execution_count": 2,
   "metadata": {},
   "outputs": [
    {
     "name": "stdout",
     "output_type": "stream",
     "text": [
      "{'Nome do Produto': 'Blush em pó', 'Categoria do Produto': 'Eletrodomésticos', 'Preço do Produto (R$)': 79.41, 'Quantidade em Estoque': 7, 'Filial': 'Filial 7'}\n"
     ]
    }
   ],
   "source": [
    "#Leitura json\n",
    "import json\n",
    "\n",
    "path_json = '/home/everton_pc/projeto2/pipeline_dados/data_raw/dados_empresaA.json'\n",
    "\n",
    "with open(path_json, 'r') as file:\n",
    "    dados_json = json.load(file)\n",
    "    print(dados_json[0])"
   ]
  },
  {
   "cell_type": "code",
   "execution_count": 3,
   "metadata": {},
   "outputs": [
    {
     "name": "stdout",
     "output_type": "stream",
     "text": [
      "['Lápis de sobrancelha', 'Roupas', '55.17', '62', 'Filial 1', '2023-04-13 18:58:06.794203']\n"
     ]
    }
   ],
   "source": [
    "#Leitura csv\n",
    "import csv\n",
    "\n",
    "path_csv = '/home/everton_pc/projeto2/pipeline_dados/data_raw/dados_empresaB.csv'\n",
    "\n",
    "dados_csv = []\n",
    "\n",
    "with open(path_csv, 'r') as file:\n",
    "    spamreader = csv.reader(file, delimiter=',')\n",
    "    for row in spamreader:\n",
    "        dados_csv.append(row)\n",
    "\n",
    "print(dados_csv[1])"
   ]
  },
  {
   "cell_type": "markdown",
   "metadata": {},
   "source": [
    "# Explorando os dados"
   ]
  },
  {
   "cell_type": "code",
   "execution_count": 4,
   "metadata": {},
   "outputs": [
    {
     "name": "stdout",
     "output_type": "stream",
     "text": [
      "Colunas do arquivo json: ['Nome do Produto', 'Categoria do Produto', 'Preço do Produto (R$)', 'Quantidade em Estoque', 'Filial']\n",
      "Número de Colunas do arquivo json: 5\n",
      "Número de linhas do arquivo json: 3123\n"
     ]
    }
   ],
   "source": [
    "#Conhecendo os dados json\n",
    "colunas = list(dados_json[0].keys())\n",
    "print(f'Colunas do arquivo json: {colunas}')\n",
    "print(f'Número de Colunas do arquivo json: {len(colunas)}')\n",
    "print(f'Número de linhas do arquivo json: {len(dados_json)}')"
   ]
  },
  {
   "cell_type": "code",
   "execution_count": 5,
   "metadata": {},
   "outputs": [
    {
     "name": "stdout",
     "output_type": "stream",
     "text": [
      "Colunas do arquivo csv: ['Nome do Item', 'Classificação do Produto', 'Valor em Reais (R$)', 'Quantidade em Estoque', 'Nome da Loja', 'Data da Venda']\n",
      "Número de Colunas do arquivo csv: 6\n",
      "Número de linhas do arquivo csv: 1324\n"
     ]
    }
   ],
   "source": [
    "#Conhecendo os dados csv\n",
    "print(f'Colunas do arquivo csv: {dados_csv[0]}')\n",
    "print(f'Número de Colunas do arquivo csv: {len(dados_csv[0])}')\n",
    "print(f'Número de linhas do arquivo csv: {len(dados_csv)}')"
   ]
  },
  {
   "cell_type": "code",
   "execution_count": 6,
   "metadata": {},
   "outputs": [
    {
     "name": "stdout",
     "output_type": "stream",
     "text": [
      "['Nome do Produto', 'Categoria do Produto', 'Preço do Produto (R$)', 'Quantidade em Estoque', 'Filial', 'Data da Venda']\n"
     ]
    }
   ],
   "source": [
    "#Parametrizando coluna do csv\n",
    "rename_columns = {\n",
    "    'Nome do Item': 'Nome do Produto',\n",
    "    'Classificação do Produto': 'Categoria do Produto',\n",
    "    'Valor em Reais (R$)': 'Preço do Produto (R$)',\n",
    "    'Quantidade em Estoque': 'Quantidade em Estoque',\n",
    "    'Nome da Loja': 'Filial',\n",
    "    'Data da Venda': 'Data da Venda'\n",
    "}\n",
    "\n",
    "dados_csv = correcao_coluna(dados_csv, rename_columns)\n",
    "\n",
    "print(dados_csv[0])"
   ]
  },
  {
   "cell_type": "code",
   "execution_count": 7,
   "metadata": {},
   "outputs": [
    {
     "name": "stdout",
     "output_type": "stream",
     "text": [
      "Estrutura do arquivo json: <class 'dict'>\n",
      "Estrutura do arquivo csv: <class 'list'>\n"
     ]
    }
   ],
   "source": [
    "#Tipo dos dados\n",
    "print(f'Estrutura do arquivo json: {type(dados_json[0])}')\n",
    "print(f'Estrutura do arquivo csv: {type(dados_csv[0])}')"
   ]
  },
  {
   "cell_type": "markdown",
   "metadata": {},
   "source": [
    "# Transformando os dados"
   ]
  },
  {
   "cell_type": "code",
   "execution_count": 8,
   "metadata": {},
   "outputs": [
    {
     "name": "stdout",
     "output_type": "stream",
     "text": [
      "1323\n"
     ]
    }
   ],
   "source": [
    "dados_csv_dict = list_to_dict(dados_csv)\n",
    "print(len(dados_csv_dict))"
   ]
  },
  {
   "cell_type": "code",
   "execution_count": 9,
   "metadata": {},
   "outputs": [
    {
     "name": "stdout",
     "output_type": "stream",
     "text": [
      "{'Nome do Produto': 'Sombra de olhos', 'Categoria do Produto': 'Eletrônicos', 'Preço do Produto (R$)': '41.73', 'Quantidade em Estoque': '5', 'Filial': 'Filial 6', 'Data da Venda': '2022-11-21 18:58:06.794203'}\n"
     ]
    }
   ],
   "source": [
    "dados_agregados = agregacao(dados_json, dados_csv_dict)\n",
    "print(dados_agregados[-1])"
   ]
  },
  {
   "cell_type": "code",
   "execution_count": 10,
   "metadata": {},
   "outputs": [
    {
     "name": "stdout",
     "output_type": "stream",
     "text": [
      "['Sombra de olhos', 'Eletrônicos', '41.73', '5', 'Filial 6', '2022-11-21 18:58:06.794203']\n"
     ]
    }
   ],
   "source": [
    "dados_tabulares = tabela(dados_agregados, rename_columns)\n",
    "print(dados_tabulares[-1])"
   ]
  },
  {
   "cell_type": "markdown",
   "metadata": {},
   "source": [
    "# Salvando so dados"
   ]
  },
  {
   "cell_type": "code",
   "execution_count": 11,
   "metadata": {},
   "outputs": [],
   "source": [
    "path_tabela = '../data_processed/data_agregados.csv'\n",
    "\n",
    "with open(path_tabela, 'w', newline='') as file:\n",
    "    writer = csv.writer(file, delimiter=',')\n",
    "    writer.writerows(dados_tabulares)"
   ]
  },
  {
   "cell_type": "code",
   "execution_count": null,
   "metadata": {},
   "outputs": [],
   "source": []
  }
 ],
 "metadata": {
  "kernelspec": {
   "display_name": "venv",
   "language": "python",
   "name": "python3"
  },
  "language_info": {
   "codemirror_mode": {
    "name": "ipython",
    "version": 3
   },
   "file_extension": ".py",
   "mimetype": "text/x-python",
   "name": "python",
   "nbconvert_exporter": "python",
   "pygments_lexer": "ipython3",
   "version": "3.10.16"
  }
 },
 "nbformat": 4,
 "nbformat_minor": 2
}
